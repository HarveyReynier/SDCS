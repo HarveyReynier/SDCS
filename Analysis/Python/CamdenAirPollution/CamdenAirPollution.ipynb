{
 "cells": [
  {
   "cell_type": "code",
   "execution_count": 1,
   "metadata": {},
   "outputs": [],
   "source": [
    "import pandas \n",
    "import geopandas\n",
    "\n",
    "PM25 = pandas.read_csv('OA2_PM25_2013.csv') # Read in pollution data (Particulate Matter 25)\n",
    "OAs = geopandas.read_file('statistical-gis-boundaries-london/ESRI/OA_2011_London_gen_MHW.shp') # Read in OA boundaries \n",
    "# *** Correct WD if need be ****\n",
    "\n",
    "CamdenPM25 = PM25[PM25[\"LAD11NM\"] == 'Camden'] # Subset to only include PM pollution in Camden\n",
    "CamdenOAs = OAs[OAs[\"LAD11NM\"] == 'Camden'] # Subset to only include Camden OAs \n",
    "\n",
    "CamdenMerged = pandas.merge(CamdenOAs , CamdenPM25) # Merging data\n",
    "\n",
    "CamdenMerged.to_file(\"CamdenAirPollution.geojson\", driver='GeoJSON') # Exporting as GeoJSON\n",
    "# The two variables of interest are \n",
    "# PM252013me (attribute, PM25 concentrations in each OA)\n",
    "# geometry (the geometry of each OA)"
   ]
  },
  {
   "cell_type": "code",
   "execution_count": null,
   "metadata": {},
   "outputs": [],
   "source": []
  }
 ],
 "metadata": {
  "kernelspec": {
   "display_name": "Python 3",
   "language": "python",
   "name": "python3"
  },
  "language_info": {
   "codemirror_mode": {
    "name": "ipython",
    "version": 3
   },
   "file_extension": ".py",
   "mimetype": "text/x-python",
   "name": "python",
   "nbconvert_exporter": "python",
   "pygments_lexer": "ipython3",
   "version": "3.7.3"
  }
 },
 "nbformat": 4,
 "nbformat_minor": 2
}

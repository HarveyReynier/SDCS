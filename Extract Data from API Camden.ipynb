{
 "cells": [
  {
   "cell_type": "code",
   "execution_count": null,
   "metadata": {},
   "outputs": [],
   "source": [
    "# Extract JSON from Camden Trees API and store it in a table in UCL database\n",
    "!pip install pandas\n",
    "!pip install sodapy\n",
    "\n",
    "import pandas as pd\n",
    "from sodapy import Socrata\n",
    "import requests\n",
    "import pymysql\n",
    "import os\n",
    "import json\n",
    "\n",
    "#!!!!this is my registered account with Camden COuncil, if prompted a lot, they will lock it !!!\n",
    "client = Socrata(\"opendata.camden.gov.uk\",\"5YbHlvnsIgblrrY3kSuIU9WZ0\", username = \"ucfnmoa@ucl.ac.uk\",password = \"Archsara13\" )\n",
    "\n",
    "# increased the limit to cover all the records, returned as JSON from API / converted to Python list of dictionaries by sodapy.\n",
    "r = client.get(\"csqp-kdss\", limit=24000)\n",
    "\n",
    "def validate_string(val):\n",
    "    if val != None:\n",
    "        if type(val) is int:\n",
    "            #for x in val:\n",
    "            #   print(x)\n",
    "            return str(val).encode('utf-8')\n",
    "        else:\n",
    "            return val\n",
    "        \n",
    "# connect with UCL database, enter your user, password and database from week 1       \n",
    "mydb = pymysql.connect(host='dev.spatialdatacapture.org',\n",
    "user='',\n",
    "passwd='',\n",
    "db='')\n",
    "\n",
    "cursor = mydb.cursor()\n",
    "\n",
    "for i,item in enumerate(r):\n",
    "    latitude=validate_string(item.get(\"latitude\", None))\n",
    "    longitude = validate_string(item.get(\"longitude\", None))\n",
    "    cursor.execute(\"CREATE TABLE trees_in_Camden (lat DOUBLE , lon DOUBLE)\")\n",
    "    cursor.execute(\"INSERT INTO trees_in_Camden (lat,lon) VALUES (%s,%s)\", (latitude, longitude))\n",
    "    \n",
    "#close the connection to the database.\n",
    "mydb.commit()\n",
    "cursor.close()\n",
    "print(\"Done\")\n",
    "\n",
    "# it took about 7 min\n",
    "#check in mySQL your database, you can find the trees in camden table with all the records!"
   ]
  }
 ],
 "metadata": {
  "kernelspec": {
   "display_name": "Python 3",
   "language": "python",
   "name": "python3"
  },
  "language_info": {
   "codemirror_mode": {
    "name": "ipython",
    "version": 3
   },
   "file_extension": ".py",
   "mimetype": "text/x-python",
   "name": "python",
   "nbconvert_exporter": "python",
   "pygments_lexer": "ipython3",
   "version": "3.7.3"
  }
 },
 "nbformat": 4,
 "nbformat_minor": 2
}
